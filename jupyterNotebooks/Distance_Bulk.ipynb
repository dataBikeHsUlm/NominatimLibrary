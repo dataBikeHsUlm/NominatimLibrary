{
 "cells": [
  {
   "cell_type": "markdown",
   "metadata": {},
   "source": [
    "# Calculating distances in bulk"
   ]
  },
  {
   "cell_type": "code",
   "execution_count": 1,
   "metadata": {},
   "outputs": [],
   "source": [
    "import pandas as pd\n",
    "import numpy as np\n",
    "from geopy import distance\n",
    "from geopy.distance import lonlat\n",
    "from geopy.geocoders import Nominatim\n",
    "\n",
    "geolocator = Nominatim(user_agent=\"Test\")\n",
    "\n",
    "itinaries = [(\"Prittwitzstrasse, Ulm\", \"Albert-Einstein-allee, Ulm\"), (\"221B Baker street, London\", \"Trafalgar Square, London\"), (\"ENIB, Plouzané\", \"Place de la Liberté, Brest\")]"
   ]
  },
  {
   "cell_type": "markdown",
   "metadata": {},
   "source": [
    "## Getting the coordinates of the points\n",
    "\n",
    "First, we need the coordinates of the start and end points of each itinary:"
   ]
  },
  {
   "cell_type": "code",
   "execution_count": 2,
   "metadata": {},
   "outputs": [
    {
     "data": {
      "text/plain": [
       "[((48.4114815, 9.9922708), (48.4268787, 9.9566362)),\n",
       " ((51.5237604, -0.1584945), (51.508037, -0.128049410707247)),\n",
       " ((48.36153155, -4.5662882688034), (48.3908095, -4.48570395555493))]"
      ]
     },
     "execution_count": 2,
     "metadata": {},
     "output_type": "execute_result"
    }
   ],
   "source": [
    "itin_coords = []\n",
    "for itinary in itinaries:\n",
    "    start = geolocator.geocode(itinary[0])\n",
    "    start = (start.latitude, start.longitude)\n",
    "    end = geolocator.geocode(itinary[1])\n",
    "    end = (end.latitude, end.longitude)\n",
    "    itin_coords.append((start, end))\n",
    "\n",
    "itin_coords"
   ]
  },
  {
   "cell_type": "markdown",
   "metadata": {},
   "source": [
    "## Getting the distance as the crow flies"
   ]
  },
  {
   "cell_type": "code",
   "execution_count": 3,
   "metadata": {},
   "outputs": [
    {
     "data": {
      "text/plain": [
       "[3.144604427791515, 2.7434743924747442, 6.799817119749467]"
      ]
     },
     "execution_count": 3,
     "metadata": {},
     "output_type": "execute_result"
    }
   ],
   "source": [
    "distances_crow = [distance.geodesic(i[0], i[1], ellipsoid='GRS-80').km for i in itin_coords]\n",
    "distances_crow"
   ]
  },
  {
   "cell_type": "markdown",
   "metadata": {},
   "source": [
    "## Getting the distance by route"
   ]
  },
  {
   "cell_type": "code",
   "execution_count": 4,
   "metadata": {},
   "outputs": [],
   "source": [
    "from pyroutelib2.loadOsm import LoadOsm\n",
    "from pyroutelib2.route import Router\n",
    "\n",
    "data = LoadOsm(\"cycle\")\n",
    "router = Router(data)\n",
    "\n",
    "def distance_by_route(start, end):\n",
    "    # Change coordinates into nodes :\n",
    "    start_node = data.findNode(start[0], start[1])\n",
    "    end_node = data.findNode(end[0], end[1])\n",
    "\n",
    "    # Calculating the route :\n",
    "    result, route = router.doRoute(start_node, end_node)\n",
    "    lats = []\n",
    "    lons = []\n",
    "    if result == 'success':\n",
    "        for i in route:\n",
    "            node = data.rnodes[i]\n",
    "            lats.append(node[0])\n",
    "            lons.append(node[1])\n",
    "    else:\n",
    "        print(\"Error calculating the route.\", start_node)\n",
    "    \n",
    "    # Getting the distance between each points :\n",
    "    distance_route = 0\n",
    "    for i in range(len(lons)-1):\n",
    "        p1=(lats[i],lons[i])\n",
    "        p2=(lats[i+1],lons[i+1])\n",
    "        distance_route += distance.geodesic(p1,p2, ellipsoid='GRS-80').km\n",
    "    \n",
    "    return distance_route"
   ]
  },
  {
   "cell_type": "code",
   "execution_count": 5,
   "metadata": {},
   "outputs": [
    {
     "ename": "ParseError",
     "evalue": "unclosed token: line 78725, column 2 (<string>)",
     "output_type": "error",
     "traceback": [
      "Traceback \u001b[0;36m(most recent call last)\u001b[0m:\n",
      "  File \u001b[1;32m\"/opt/anaconda/lib/python3.7/site-packages/IPython/core/interactiveshell.py\"\u001b[0m, line \u001b[1;32m2961\u001b[0m, in \u001b[1;35mrun_code\u001b[0m\n    exec(code_obj, self.user_global_ns, self.user_ns)\n",
      "  File \u001b[1;32m\"<ipython-input-5-fd1b3b314ddd>\"\u001b[0m, line \u001b[1;32m1\u001b[0m, in \u001b[1;35m<module>\u001b[0m\n    distances = [distance_by_route(i[0], i[1]) for i in itin_coords]\n",
      "  File \u001b[1;32m\"<ipython-input-5-fd1b3b314ddd>\"\u001b[0m, line \u001b[1;32m1\u001b[0m, in \u001b[1;35m<listcomp>\u001b[0m\n    distances = [distance_by_route(i[0], i[1]) for i in itin_coords]\n",
      "  File \u001b[1;32m\"<ipython-input-4-db823cccaad8>\"\u001b[0m, line \u001b[1;32m13\u001b[0m, in \u001b[1;35mdistance_by_route\u001b[0m\n    result, route = router.doRoute(start_node, end_node)\n",
      "  File \u001b[1;32m\"/home/gguy/Téléchargements/Scolaire/Ulm/project/git/NominatimLibrary/jupyterNotebooks/pyroutelib2/route.py\"\u001b[0m, line \u001b[1;32m84\u001b[0m, in \u001b[1;35mdoRoute\u001b[0m\n    self.addToQueue(x,i,nextItem, weight)\n",
      "  File \u001b[1;32m\"/home/gguy/Téléchargements/Scolaire/Ulm/project/git/NominatimLibrary/jupyterNotebooks/pyroutelib2/route.py\"\u001b[0m, line \u001b[1;32m99\u001b[0m, in \u001b[1;35maddToQueue\u001b[0m\n    self.data.getArea(end_pos[0], end_pos[1])\n",
      "  File \u001b[1;32m\"/home/gguy/Téléchargements/Scolaire/Ulm/project/git/NominatimLibrary/jupyterNotebooks/pyroutelib2/loadOsm.py\"\u001b[0m, line \u001b[1;32m63\u001b[0m, in \u001b[1;35mgetArea\u001b[0m\n    return(self.loadOsm(filename))\n",
      "  File \u001b[1;32m\"/home/gguy/Téléchargements/Scolaire/Ulm/project/git/NominatimLibrary/jupyterNotebooks/pyroutelib2/loadOsm.py\"\u001b[0m, line \u001b[1;32m163\u001b[0m, in \u001b[1;35mloadOsm\u001b[0m\n    data = self.parseOsmFile(filename)\n",
      "  File \u001b[1;32m\"/home/gguy/Téléchargements/Scolaire/Ulm/project/git/NominatimLibrary/jupyterNotebooks/pyroutelib2/loadOsm.py\"\u001b[0m, line \u001b[1;32m122\u001b[0m, in \u001b[1;35mparseOsmFile\u001b[0m\n    for event, elem in etree.iterparse(f): # events=['end']\n",
      "  File \u001b[1;32m\"/opt/anaconda/lib/python3.7/xml/etree/ElementTree.py\"\u001b[0m, line \u001b[1;32m1228\u001b[0m, in \u001b[1;35miterator\u001b[0m\n    root = pullparser._close_and_return_root()\n",
      "\u001b[0;36m  File \u001b[0;32m\"/opt/anaconda/lib/python3.7/xml/etree/ElementTree.py\"\u001b[0;36m, line \u001b[0;32m1275\u001b[0;36m, in \u001b[0;35m_close_and_return_root\u001b[0;36m\u001b[0m\n\u001b[0;31m    root = self._parser.close()\u001b[0m\n",
      "\u001b[0;36m  File \u001b[0;32m\"<string>\"\u001b[0;36m, line \u001b[0;32munknown\u001b[0m\n\u001b[0;31mParseError\u001b[0m\u001b[0;31m:\u001b[0m unclosed token: line 78725, column 2\n"
     ]
    }
   ],
   "source": [
    "distances = [distance_by_route(i[0], i[1]) for i in itin_coords]\n",
    "distances"
   ]
  }
 ],
 "metadata": {
  "kernelspec": {
   "display_name": "Python 3",
   "language": "python",
   "name": "python3"
  },
  "language_info": {
   "codemirror_mode": {
    "name": "ipython",
    "version": 3
   },
   "file_extension": ".py",
   "mimetype": "text/x-python",
   "name": "python",
   "nbconvert_exporter": "python",
   "pygments_lexer": "ipython3",
   "version": "3.7.1"
  }
 },
 "nbformat": 4,
 "nbformat_minor": 2
}
