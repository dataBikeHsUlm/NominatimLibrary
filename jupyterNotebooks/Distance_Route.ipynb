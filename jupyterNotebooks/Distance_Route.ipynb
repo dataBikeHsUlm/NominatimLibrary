{
 "cells": [
  {
   "cell_type": "markdown",
   "metadata": {},
   "source": [
    "# Getting distance following the reads\n",
    "\n",
    "There are several libraries for different programming languages, they are listed [here on the OpenStreetMap wiki](https://wiki.openstreetmap.org/wiki/Routing#Developers).\n",
    "\n",
    "Because we are using mainly the Python language, I will first try Python libraries. However, if they prove to be too slow, I will check other languages.\n",
    "\n",
    "For Python, two libraries are given :\n",
    "- [PyrouteLib](https://wiki.openstreetmap.org/wiki/PyrouteLib)\n",
    "- [SimpleOsmRouter](https://github.com/F6F/SimpleOsmRouter)\n",
    "\n",
    "> SimpleOsmRouter being far too simple, I will not cover it here\n",
    "\n",
    "## PyrouteLib\n",
    "\n",
    "### ~~Getting the *OSM* file~~\n",
    "\n",
    "~~The library needs to access an OSM file containing a map of the area to be able to create a route.\n",
    "When the Nomitatim server will be ready, we will be able to use the data there directly, but for now, I will use an extract containing only the city of London. A list of several extracts OSM files can be found [here](https://download.geofabrik.de/).~~\n",
    "\n",
    "### Getting the library\n",
    "\n",
    "First, the python package `osmapi` is needed, you can install it with `conda` or `pip`.\n",
    "Then, the files present in the repository didn't work directly, I had to modify bit (mostly the `import` paths). I uploaded the fixed version of the library along with this notebook.\n",
    "\n",
    "### Computing the route and distance from A to B\n"
   ]
  },
  {
   "cell_type": "markdown",
   "metadata": {},
   "source": [
    "First, we get the coordinates of *A* and *B* :"
   ]
  },
  {
   "cell_type": "code",
   "execution_count": 1,
   "metadata": {},
   "outputs": [],
   "source": [
    "from geopy.geocoders import Nominatim\n",
    "geolocator = Nominatim(user_agent=\"Test\")\n",
    "\n",
    "location = geolocator.geocode(\"Prittwitzstrasse, Ulm\")\n",
    "#location = geolocator.geocode(\"221B Baker street, London\")\n",
    "a = (location.latitude, location.longitude)\n",
    "\n",
    "#location = geolocator.geocode(\"Trafalgar Square, London\")\n",
    "location = geolocator.geocode(\"Albert-Einstein-allee, Ulm\")\n",
    "b = (location.latitude, location.longitude)"
   ]
  },
  {
   "cell_type": "markdown",
   "metadata": {},
   "source": [
    "Then, we use the library to get the different points that make the route and convert them to GPS coordinates :"
   ]
  },
  {
   "cell_type": "code",
   "execution_count": 2,
   "metadata": {
    "scrolled": false
   },
   "outputs": [
    {
     "ename": "ParseError",
     "evalue": "unclosed token: line 78725, column 2 (<string>)",
     "output_type": "error",
     "traceback": [
      "Traceback \u001b[0;36m(most recent call last)\u001b[0m:\n",
      "  File \u001b[1;32m\"/opt/anaconda/lib/python3.7/site-packages/IPython/core/interactiveshell.py\"\u001b[0m, line \u001b[1;32m2961\u001b[0m, in \u001b[1;35mrun_code\u001b[0m\n    exec(code_obj, self.user_global_ns, self.user_ns)\n",
      "  File \u001b[1;32m\"<ipython-input-2-3dbfd0d9aa58>\"\u001b[0m, line \u001b[1;32m12\u001b[0m, in \u001b[1;35m<module>\u001b[0m\n    result, route = router.doRoute(node_a, node_b)\n",
      "  File \u001b[1;32m\"/home/gguy/Téléchargements/Scolaire/Ulm/project/git/NominatimLibrary/jupyterNotebooks/pyroutelib2/route.py\"\u001b[0m, line \u001b[1;32m84\u001b[0m, in \u001b[1;35mdoRoute\u001b[0m\n    self.addToQueue(x,i,nextItem, weight)\n",
      "  File \u001b[1;32m\"/home/gguy/Téléchargements/Scolaire/Ulm/project/git/NominatimLibrary/jupyterNotebooks/pyroutelib2/route.py\"\u001b[0m, line \u001b[1;32m99\u001b[0m, in \u001b[1;35maddToQueue\u001b[0m\n    self.data.getArea(end_pos[0], end_pos[1])\n",
      "  File \u001b[1;32m\"/home/gguy/Téléchargements/Scolaire/Ulm/project/git/NominatimLibrary/jupyterNotebooks/pyroutelib2/loadOsm.py\"\u001b[0m, line \u001b[1;32m63\u001b[0m, in \u001b[1;35mgetArea\u001b[0m\n    return(self.loadOsm(filename))\n",
      "  File \u001b[1;32m\"/home/gguy/Téléchargements/Scolaire/Ulm/project/git/NominatimLibrary/jupyterNotebooks/pyroutelib2/loadOsm.py\"\u001b[0m, line \u001b[1;32m163\u001b[0m, in \u001b[1;35mloadOsm\u001b[0m\n    data = self.parseOsmFile(filename)\n",
      "  File \u001b[1;32m\"/home/gguy/Téléchargements/Scolaire/Ulm/project/git/NominatimLibrary/jupyterNotebooks/pyroutelib2/loadOsm.py\"\u001b[0m, line \u001b[1;32m122\u001b[0m, in \u001b[1;35mparseOsmFile\u001b[0m\n    for event, elem in etree.iterparse(f): # events=['end']\n",
      "  File \u001b[1;32m\"/opt/anaconda/lib/python3.7/xml/etree/ElementTree.py\"\u001b[0m, line \u001b[1;32m1228\u001b[0m, in \u001b[1;35miterator\u001b[0m\n    root = pullparser._close_and_return_root()\n",
      "\u001b[0;36m  File \u001b[0;32m\"/opt/anaconda/lib/python3.7/xml/etree/ElementTree.py\"\u001b[0;36m, line \u001b[0;32m1275\u001b[0;36m, in \u001b[0;35m_close_and_return_root\u001b[0;36m\u001b[0m\n\u001b[0;31m    root = self._parser.close()\u001b[0m\n",
      "\u001b[0;36m  File \u001b[0;32m\"<string>\"\u001b[0;36m, line \u001b[0;32munknown\u001b[0m\n\u001b[0;31mParseError\u001b[0m\u001b[0;31m:\u001b[0m unclosed token: line 78725, column 2\n"
     ]
    }
   ],
   "source": [
    "from pyroutelib2.loadOsm import LoadOsm\n",
    "from pyroutelib2.route import Router\n",
    "\n",
    "# By default, it uses the open API, this can be changed directly in the file `loadOsm.py`.\n",
    "# Here, we use bicycle to calculate routes.\n",
    "data = LoadOsm(\"cycle\")\n",
    "router = Router(data)\n",
    "\n",
    "node_a = data.findNode(a[0], a[1])\n",
    "node_b = data.findNode(b[0], b[1])\n",
    "\n",
    "result, route = router.doRoute(node_a, node_b)\n",
    "lats = []\n",
    "lons = []\n",
    "if result == 'success':\n",
    "    for i in route:\n",
    "        node = data.rnodes[i]\n",
    "        lats.append(node[0])\n",
    "        lons.append(node[1])\n",
    "        # print(\"%d: %f,%f\" % (i, node[0], node[1]))\n",
    "else:\n",
    "    print(\"Error calculating the route.\")"
   ]
  },
  {
   "cell_type": "code",
   "execution_count": null,
   "metadata": {},
   "outputs": [],
   "source": [
    "%matplotlib inline\n",
    "from matplotlib import pyplot as plt\n",
    "\n",
    "plt.plot(lons, lats)"
   ]
  },
  {
   "cell_type": "markdown",
   "metadata": {},
   "source": [
    "Finally we can compute the distance using the distance *\"as the crow flies\"* between each two points :"
   ]
  },
  {
   "cell_type": "code",
   "execution_count": null,
   "metadata": {},
   "outputs": [],
   "source": [
    "from geopy import distance\n",
    "\n",
    "distance_route = 0\n",
    "\n",
    "for i in range(len(lons)-1):\n",
    "    p1=(lats[i],lons[i])\n",
    "    p2=(lats[i+1],lons[i+1])\n",
    "    distance_route += distance.geodesic(p1,p2, ellipsoid='GRS-80').km\n",
    "\n",
    "print(\"Total distance on the route : %.2fkm\" % distance_route)"
   ]
  },
  {
   "cell_type": "markdown",
   "metadata": {},
   "source": [
    "### Comparison with Google Maps\n",
    "\n",
    "#### Trafalgar Square to 221B Baker Street, London\n",
    "\n",
    "By using *Pyroutelib*, we get a distance by route of **3.82km**. Google Maps gives a similar result of **3.6km** :\n",
    "\n",
    "![Google Map itinary from Trafalgar Square to 221B Baker street in London](./img/Trafalgar_Square_to_221B_Baker_St.png)\n",
    "\n",
    "\n",
    "#### Prittwitzstraße to Albert-Einstein-Allee, Ulm\n",
    "\n",
    "By using *Pyroutelib*, we get a distance by route of **5.87km**. Google Maps gives a similar result of **5.2km** :\n",
    "\n",
    "![Google Map itinary from Prittwitzstraße to Albert-Einstein-Allee in Ulm](./img/Prittwitzstrasse_AlbertEinsteinAlle.png)"
   ]
  },
  {
   "cell_type": "markdown",
   "metadata": {},
   "source": [
    "### Note on performance\n",
    "\n",
    "I tried to calculate the route between **Rennes, France** and **Brest, France** and it took nearly an hour, but is is quite fast for shorter distance (like here inside London or Ulm). We will maybe have to look at **compiled** languages libraries."
   ]
  },
  {
   "cell_type": "code",
   "execution_count": null,
   "metadata": {},
   "outputs": [],
   "source": []
  }
 ],
 "metadata": {
  "kernelspec": {
   "display_name": "Python 3",
   "language": "python",
   "name": "python3"
  },
  "language_info": {
   "codemirror_mode": {
    "name": "ipython",
    "version": 3
   },
   "file_extension": ".py",
   "mimetype": "text/x-python",
   "name": "python",
   "nbconvert_exporter": "python",
   "pygments_lexer": "ipython3",
   "version": "3.7.0"
  }
 },
 "nbformat": 4,
 "nbformat_minor": 2
}
