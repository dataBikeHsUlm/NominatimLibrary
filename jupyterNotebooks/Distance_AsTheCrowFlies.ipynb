{
 "cells": [
  {
   "cell_type": "markdown",
   "metadata": {},
   "source": [
    "# Compute distances as the crow flies"
   ]
  },
  {
   "cell_type": "markdown",
   "metadata": {},
   "source": [
    " Using [Geopy](https://geopy.readthedocs.io/en/latest/#module-geopy.distance) "
   ]
  },
  {
   "cell_type": "markdown",
   "metadata": {},
   "source": [
    "The geodesic distance is the shortest distance on the surface of an ellipsoidal model of the earth. The default algorithm uses the method is given by Karney (2013), this is accurate to round-off and always converges."
   ]
  },
  {
   "cell_type": "markdown",
   "metadata": {},
   "source": [
    "There are multiple popular ellipsoidal models, and which one will be the most accurate depends on where your points are located on the earth. The default is the WGS-84 ellipsoid, which is the most globally accurate. geopy includes a few other models in the distance.</br> ELLIPSOIDS dictionary:</br> \n",
    "```\n",
    "                model             major (km)   minor (km)     flattening\n",
    "ELLIPSOIDS = {'WGS-84':        (6378.137,    6356.7523142,  1 / 298.257223563),\n",
    "              'GRS-80':        (6378.137,    6356.7523141,  1 / 298.257222101),\n",
    "              'Airy (1830)':   (6377.563396, 6356.256909,   1 / 299.3249646),\n",
    "              'Intl 1924':     (6378.388,    6356.911946,   1 / 297.0),\n",
    "              'Clarke (1880)': (6378.249145, 6356.51486955, 1 / 293.465),\n",
    "              'GRS-67':        (6378.1600,   6356.774719,   1 / 298.25),\n",
    "              }\n",
    "              ```"
   ]
  },
  {
   "cell_type": "code",
   "execution_count": 1,
   "metadata": {},
   "outputs": [],
   "source": [
    "from geopy import distance\n",
    "from geopy.distance import lonlat\n",
    "from geopy.geocoders import Nominatim\n",
    "geolocator = Nominatim(user_agent=\"Test\")"
   ]
  },
  {
   "cell_type": "markdown",
   "metadata": {},
   "source": [
    "You can change the ellipsoid model used by the **geodesic** formulas like so:"
   ]
  },
  {
   "cell_type": "code",
   "execution_count": 2,
   "metadata": {},
   "outputs": [
    {
     "name": "stdout",
     "output_type": "stream",
     "text": [
      "The distance between Ulm and Munich is:  119.9624082075031\n"
     ]
    }
   ],
   "source": [
    "ulm = (48.4200293, 10.0084584494102)\n",
    "mun = (48.1333275, 11.5665675)\n",
    "print(\"The distance between Ulm and Munich is: \",distance.geodesic(ulm,mun, ellipsoid='GRS-80').km)"
   ]
  },
  {
   "cell_type": "markdown",
   "metadata": {},
   "source": [
    "### Computing the coordination point according to the postalcode"
   ]
  },
  {
   "cell_type": "code",
   "execution_count": 3,
   "metadata": {},
   "outputs": [
    {
     "data": {
      "text/plain": [
       "Point(48.1333275, 11.5665675, 0.0)"
      ]
     },
     "execution_count": 3,
     "metadata": {},
     "output_type": "execute_result"
    }
   ],
   "source": [
    "#Method to compute coordinates of the start and the end of the route\n",
    "def locatePoint (postcode):\n",
    "    \"\"\"Gets the coordinates to a given address\n",
    "        \n",
    "        Args: \n",
    "            postalcode(str): String of postalcode\n",
    "\t        \n",
    "        Returns: \n",
    "            Associated coordinates as a Point\n",
    "   \"\"\"\n",
    "    location = geolocator.geocode(postcode)\n",
    "    lat = location.latitude\n",
    "    lon = location.longitude\n",
    "    p = location.point\n",
    "    return p\n",
    "locatePoint(\"80336\")"
   ]
  },
  {
   "cell_type": "markdown",
   "metadata": {},
   "source": [
    "### Computing the distance between two points according to their postalcodes"
   ]
  },
  {
   "cell_type": "code",
   "execution_count": 4,
   "metadata": {},
   "outputs": [
    {
     "name": "stdout",
     "output_type": "stream",
     "text": [
      "The distance between Ulm and Munich is:  119.96240820652864  km\n"
     ]
    },
    {
     "data": {
      "text/plain": [
       "119.96240820652864"
      ]
     },
     "execution_count": 4,
     "metadata": {},
     "output_type": "execute_result"
    }
   ],
   "source": [
    "def getDistance(start, end):\n",
    "    \"\"\"Get distance of two postalcodes\n",
    "        \n",
    "        Args: \n",
    "            start(str): String of start postalcodes\n",
    "            end (str): String of end postalcode\n",
    "\t        \n",
    "        Returns: \n",
    "            Distance in km \n",
    "   \"\"\"\n",
    "    a = locatePoint(start)\n",
    "    b = locatePoint(end)\n",
    "    d =distance.distance(a,b).km\n",
    "    print(\"The distance between Ulm and Munich is: \",d,\" km\")\n",
    "    return d\n",
    "    \n",
    "getDistance(\"89075\",\"80336\")"
   ]
  },
  {
   "cell_type": "markdown",
   "metadata": {},
   "source": [
    "### Test with Google Maps"
   ]
  },
  {
   "cell_type": "markdown",
   "metadata": {},
   "source": [
    "![Google Maps Test](img/test.png)"
   ]
  },
  {
   "cell_type": "code",
   "execution_count": null,
   "metadata": {},
   "outputs": [],
   "source": []
  }
 ],
 "metadata": {
  "kernelspec": {
   "display_name": "Python 3",
   "language": "python",
   "name": "python3"
  },
  "language_info": {
   "codemirror_mode": {
    "name": "ipython",
    "version": 3
   },
   "file_extension": ".py",
   "mimetype": "text/x-python",
   "name": "python",
   "nbconvert_exporter": "python",
   "pygments_lexer": "ipython3",
   "version": "3.7.0"
  }
 },
 "nbformat": 4,
 "nbformat_minor": 2
}
