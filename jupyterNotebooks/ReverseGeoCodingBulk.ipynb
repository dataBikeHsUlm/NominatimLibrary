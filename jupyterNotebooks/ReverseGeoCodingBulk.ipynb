{
 "cells": [
  {
   "cell_type": "markdown",
   "metadata": {},
   "source": [
    "### Reverse Geocoding in Bulk"
   ]
  },
  {
   "cell_type": "markdown",
   "metadata": {},
   "source": [
    "The process:\n",
    "We create a data with our coordinates\n",
    "We call the the **reverse()**:  \n",
    "                              - The coordinates(Lat, Long) of each row are joined to create points\n",
    "                              - We specify  the axis along which the means are computed. (axis=1) \n",
    "                                https://stackoverflow.com/questions/22149584/what-does-axis-in-pandas-mean\n",
    "                              - We apply then the method on each row\n",
    "                              - The results are stored in a new colums.\n"
   ]
  },
  {
   "cell_type": "code",
   "execution_count": 1,
   "metadata": {},
   "outputs": [
    {
     "data": {
      "text/html": [
       "<div>\n",
       "<style scoped>\n",
       "    .dataframe tbody tr th:only-of-type {\n",
       "        vertical-align: middle;\n",
       "    }\n",
       "\n",
       "    .dataframe tbody tr th {\n",
       "        vertical-align: top;\n",
       "    }\n",
       "\n",
       "    .dataframe thead th {\n",
       "        text-align: right;\n",
       "    }\n",
       "</style>\n",
       "<table border=\"1\" class=\"dataframe\">\n",
       "  <thead>\n",
       "    <tr style=\"text-align: right;\">\n",
       "      <th></th>\n",
       "      <th>Lat</th>\n",
       "      <th>Long</th>\n",
       "      <th>address</th>\n",
       "    </tr>\n",
       "  </thead>\n",
       "  <tbody>\n",
       "    <tr>\n",
       "      <th>0</th>\n",
       "      <td>53.352280</td>\n",
       "      <td>-6.263668</td>\n",
       "      <td>(Rotunda Ward (1946), Parnell Square East, Rotunda A ED, Dublin 1, Dublin, County Dublin, Leinster, D01 R243, Ireland, (53.35367795, -6.26200800564629))</td>\n",
       "    </tr>\n",
       "    <tr>\n",
       "      <th>1</th>\n",
       "      <td>53.352345</td>\n",
       "      <td>-6.263758</td>\n",
       "      <td>(Rotunda Ward (1946), Parnell Square East, Rotunda A ED, Dublin 1, Dublin, County Dublin, Leinster, D01 R243, Ireland, (53.35367795, -6.26200800564629))</td>\n",
       "    </tr>\n",
       "    <tr>\n",
       "      <th>2</th>\n",
       "      <td>48.420029</td>\n",
       "      <td>10.008458</td>\n",
       "      <td>(10, Adolf-Reichwein-Weg, Eichenplatz, Oststadt, Örlingen, Ulm, Regierungsbezirk Tübingen, Baden-Württemberg, 89075, Deutschland, (48.420006, 10.008357))</td>\n",
       "    </tr>\n",
       "    <tr>\n",
       "      <th>3</th>\n",
       "      <td>48.629697</td>\n",
       "      <td>9.194953</td>\n",
       "      <td>(L 1185, Aichtal, Landkreis Esslingen, Regierungsbezirk Stuttgart, Baden-Württemberg, 72631, Deutschland, (48.6288640464623, 9.19488474206186))</td>\n",
       "    </tr>\n",
       "  </tbody>\n",
       "</table>\n",
       "</div>"
      ],
      "text/plain": [
       "         Lat       Long  \\\n",
       "0  53.352280 -6.263668    \n",
       "1  53.352345 -6.263758    \n",
       "2  48.420029  10.008458   \n",
       "3  48.629697  9.194953    \n",
       "\n",
       "                                                                                                                                                     address  \n",
       "0  (Rotunda Ward (1946), Parnell Square East, Rotunda A ED, Dublin 1, Dublin, County Dublin, Leinster, D01 R243, Ireland, (53.35367795, -6.26200800564629))   \n",
       "1  (Rotunda Ward (1946), Parnell Square East, Rotunda A ED, Dublin 1, Dublin, County Dublin, Leinster, D01 R243, Ireland, (53.35367795, -6.26200800564629))   \n",
       "2  (10, Adolf-Reichwein-Weg, Eichenplatz, Oststadt, Örlingen, Ulm, Regierungsbezirk Tübingen, Baden-Württemberg, 89075, Deutschland, (48.420006, 10.008357))  \n",
       "3  (L 1185, Aichtal, Landkreis Esslingen, Regierungsbezirk Stuttgart, Baden-Württemberg, 72631, Deutschland, (48.6288640464623, 9.19488474206186))            "
      ]
     },
     "execution_count": 1,
     "metadata": {},
     "output_type": "execute_result"
    }
   ],
   "source": [
    "import pandas as pd\n",
    "import numpy as np\n",
    "from geopy.geocoders import Nominatim\n",
    "\n",
    "geolocator = Nominatim(user_agent=\"Test\")\n",
    "\n",
    "pd.set_option('display.max_colwidth', -1)\n",
    "\n",
    "df = d = {'Lat': [53.352280, 53.352345, 48.4200293, 48.6296972], 'Long': [-6.263668, -6.263758, 10.0084584494102, 9.1949534]}\n",
    "df = pd.DataFrame(data=d)\n",
    "\n",
    "df['address'] = df.apply(\n",
    "    lambda row: geolocator.reverse((row['Lat'], row['Long'])), axis=1)\n",
    "\n",
    "\n",
    "#df['postcode'] =df.apply( lambda row: geolocator.geocode((row['address'])), axis=1 )\n",
    "\n",
    "#geolocator.geocode(address_1, addressdetails=True)\n",
    "\n",
    "df\n"
   ]
  }
 ],
 "metadata": {
  "kernelspec": {
   "display_name": "Python 3",
   "language": "python",
   "name": "python3"
  },
  "language_info": {
   "codemirror_mode": {
    "name": "ipython",
    "version": 3
   },
   "file_extension": ".py",
   "mimetype": "text/x-python",
   "name": "python",
   "nbconvert_exporter": "python",
   "pygments_lexer": "ipython3",
   "version": "3.7.0"
  }
 },
 "nbformat": 4,
 "nbformat_minor": 2
}
