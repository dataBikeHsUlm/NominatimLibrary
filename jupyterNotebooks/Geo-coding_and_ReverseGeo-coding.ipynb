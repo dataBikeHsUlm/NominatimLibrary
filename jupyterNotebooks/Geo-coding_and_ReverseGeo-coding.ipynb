{
 "cells": [
  {
   "cell_type": "markdown",
   "metadata": {},
   "source": [
    "# Geo-coding and reverse geo-coding address"
   ]
  },
  {
   "cell_type": "markdown",
   "metadata": {},
   "source": [
    "Geo-coding an address with the intention to find out specific data about the adress.<br>\n",
    "For example:\n",
    "* house_number\n",
    "* road, town\n",
    "* city\n",
    "* county\n",
    "* state_district\n",
    "* state\n",
    "* postcode\n",
    "* country\n",
    "* country_code\n",
    "\n",
    "</br>Therefore we use the geocoder **Nominatim**.\n",
    "Geocoders each define at least a **geocode** method, for **resolving a location from a string**, and may define a **reverse** method, which resolves a pair of **coordinates to an address**.\n",
    "\n",
    "## Using [*Geopy*](https://geopy.readthedocs.io/en/stable/#usage-with-pandas) with Python"
   ]
  },
  {
   "cell_type": "markdown",
   "metadata": {},
   "source": [
    "### 1. Geo-coding an address and coordinates"
   ]
  },
  {
   "cell_type": "code",
   "execution_count": 1,
   "metadata": {},
   "outputs": [],
   "source": [
    "from geopy.geocoders import Nominatim\n",
    "geolocator = Nominatim(user_agent=\"Test\")"
   ]
  },
  {
   "cell_type": "code",
   "execution_count": 2,
   "metadata": {},
   "outputs": [
    {
     "name": "stdout",
     "output_type": "stream",
     "text": [
      "Hochschule Ulm, E-Bau, 10, Prittwitzstraße, Safranberg, Oststadt, Arbeitersiedlung Untere Bleiche, Ulm, Regierungsbezirk Tübingen, Baden-Württemberg, 89075, Deutschland\n",
      "48.40847065 9.9976292944672\n"
     ]
    }
   ],
   "source": [
    "def locate (address):\n",
    "    \"\"\"Gets the coordinates to a given address\n",
    "        \n",
    "        Args: \n",
    "            address(str): String List of following arguments:house_number,road, town, city, county, state_district, state, postcode, country, country_code\n",
    "\t        \n",
    "        Returns: \n",
    "            Associated address and coordinates \n",
    "   \"\"\"\n",
    "    location = geolocator.geocode(address)\n",
    "    print(location.address)\n",
    "    print(location.latitude, location.longitude)\n",
    "\n",
    "locate(\"10 Prittwitzstraße Ulm\")"
   ]
  },
  {
   "cell_type": "code",
   "execution_count": 3,
   "metadata": {},
   "outputs": [
    {
     "data": {
      "text/html": [
       "<div>\n",
       "<style scoped>\n",
       "    .dataframe tbody tr th:only-of-type {\n",
       "        vertical-align: middle;\n",
       "    }\n",
       "\n",
       "    .dataframe tbody tr th {\n",
       "        vertical-align: top;\n",
       "    }\n",
       "\n",
       "    .dataframe thead th {\n",
       "        text-align: right;\n",
       "    }\n",
       "</style>\n",
       "<table border=\"1\" class=\"dataframe\">\n",
       "  <thead>\n",
       "    <tr style=\"text-align: right;\">\n",
       "      <th></th>\n",
       "      <th>City</th>\n",
       "      <th>location</th>\n",
       "      <th>point</th>\n",
       "    </tr>\n",
       "  </thead>\n",
       "  <tbody>\n",
       "    <tr>\n",
       "      <th>0</th>\n",
       "      <td>Ulm</td>\n",
       "      <td>(Ulm, Regierungsbezirk Tübingen, Baden-Württem...</td>\n",
       "      <td>(48.3973944, 9.9932755, 0.0)</td>\n",
       "    </tr>\n",
       "  </tbody>\n",
       "</table>\n",
       "</div>"
      ],
      "text/plain": [
       "  City                                           location  \\\n",
       "0  Ulm  (Ulm, Regierungsbezirk Tübingen, Baden-Württem...   \n",
       "\n",
       "                          point  \n",
       "0  (48.3973944, 9.9932755, 0.0)  "
      ]
     },
     "execution_count": 3,
     "metadata": {},
     "output_type": "execute_result"
    }
   ],
   "source": [
    "import pandas as pd\n",
    "from geopy.extra.rate_limiter import RateLimiter\n",
    "df = pd.DataFrame({'City': ['Ulm']})\n",
    "geocode = RateLimiter(geolocator.geocode, min_delay_seconds=1)\n",
    "df['location'] = df['City'].apply(geocode)\n",
    "df['point'] = df['location'].apply(lambda loc: tuple(loc.point) if loc else None)\n",
    "df"
   ]
  },
  {
   "cell_type": "code",
   "execution_count": 4,
   "metadata": {},
   "outputs": [
    {
     "data": {
      "text/html": [
       "<div>\n",
       "<style scoped>\n",
       "    .dataframe tbody tr th:only-of-type {\n",
       "        vertical-align: middle;\n",
       "    }\n",
       "\n",
       "    .dataframe tbody tr th {\n",
       "        vertical-align: top;\n",
       "    }\n",
       "\n",
       "    .dataframe thead th {\n",
       "        text-align: right;\n",
       "    }\n",
       "</style>\n",
       "<table border=\"1\" class=\"dataframe\">\n",
       "  <thead>\n",
       "    <tr style=\"text-align: right;\">\n",
       "      <th></th>\n",
       "      <th>City</th>\n",
       "      <th>location</th>\n",
       "      <th>point</th>\n",
       "    </tr>\n",
       "  </thead>\n",
       "  <tbody>\n",
       "    <tr>\n",
       "      <th>0</th>\n",
       "      <td>Ulm</td>\n",
       "      <td>(Ulm, Regierungsbezirk Tübingen, Baden-Württem...</td>\n",
       "      <td>48.397394</td>\n",
       "    </tr>\n",
       "  </tbody>\n",
       "</table>\n",
       "</div>"
      ],
      "text/plain": [
       "  City                                           location      point\n",
       "0  Ulm  (Ulm, Regierungsbezirk Tübingen, Baden-Württem...  48.397394"
      ]
     },
     "execution_count": 4,
     "metadata": {},
     "output_type": "execute_result"
    }
   ],
   "source": [
    "geocode = RateLimiter(geolocator.geocode, min_delay_seconds=1)\n",
    "df['location'] = df['City'].apply(geocode)\n",
    "df['point'] = df['location'].apply(lambda x: x.latitude if x != None else None)\n",
    "df"
   ]
  },
  {
   "cell_type": "markdown",
   "metadata": {},
   "source": [
    "### 2. Reverse geo-coding"
   ]
  },
  {
   "cell_type": "code",
   "execution_count": 5,
   "metadata": {},
   "outputs": [
    {
     "name": "stdout",
     "output_type": "stream",
     "text": [
      "Parkplatz Bedienstete, Prittwitzstraße, Safranberg, Oststadt, Arbeitersiedlung Untere Bleiche, Ulm, Regierungsbezirk Tübingen, Baden-Württemberg, 89075, Deutschland\n"
     ]
    }
   ],
   "source": [
    "def reverseLocate (coordinates):\n",
    "    \"\"\"Gets the address to given coordinates\n",
    "        \n",
    "        Args: \n",
    "            coordinatates(str): String List of coordinates\n",
    "\t        \n",
    "        Returns: \n",
    "            Associated address  \n",
    "    \"\"\"\n",
    "    location = geolocator.reverse(coordinates)\n",
    "    print(location.address)\n",
    "reverseLocate(\"48.40847065, 9.9976292944672\")"
   ]
  },
  {
   "cell_type": "markdown",
   "metadata": {},
   "source": [
    "### Test with Google Maps"
   ]
  },
  {
   "cell_type": "markdown",
   "metadata": {},
   "source": [
    "![Google Maps Test](img/test.png)"
   ]
  }
 ],
 "metadata": {
  "kernelspec": {
   "display_name": "Python 3",
   "language": "python",
   "name": "python3"
  },
  "language_info": {
   "codemirror_mode": {
    "name": "ipython",
    "version": 3
   },
   "file_extension": ".py",
   "mimetype": "text/x-python",
   "name": "python",
   "nbconvert_exporter": "python",
   "pygments_lexer": "ipython3",
   "version": "3.7.0"
  }
 },
 "nbformat": 4,
 "nbformat_minor": 2
}
