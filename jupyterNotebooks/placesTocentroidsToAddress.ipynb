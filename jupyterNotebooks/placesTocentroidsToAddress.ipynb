{
 "cells": [
  {
   "cell_type": "markdown",
   "metadata": {},
   "source": [
    "# Query centroids of a place (town/region/...)"
   ]
  },
  {
   "cell_type": "code",
   "execution_count": 1,
   "metadata": {},
   "outputs": [],
   "source": [
    "from geopy.geocoders import Nominatim\n",
    "geolocator = Nominatim(user_agent=\"Test\")"
   ]
  },
  {
   "cell_type": "markdown",
   "metadata": {},
   "source": [
    "## Getting the centroid coordinates of a place\n",
    "\n",
    "When making a search with *Nominatim*, the result already includes the longitude and latitude :"
   ]
  },
  {
   "cell_type": "code",
   "execution_count": 2,
   "metadata": {},
   "outputs": [
    {
     "name": "stdout",
     "output_type": "stream",
     "text": [
      "Bayern, Deutschland\n",
      "48.9467562 11.4038717\n"
     ]
    }
   ],
   "source": [
    "location = geolocator.geocode(\"Bayern\") # Bade Wurtemberg\n",
    "print(location.address)\n",
    "print(location.latitude, location.longitude)"
   ]
  },
  {
   "cell_type": "markdown",
   "metadata": {},
   "source": [
    "## Getting a precise address from the coordinates\n",
    "\n",
    "If GPS coordinates are not sufficient, we might need to transform them to a precise street number, we just have to reverse-geocoding on the acquired GPS coordinates :"
   ]
  },
  {
   "cell_type": "code",
   "execution_count": 3,
   "metadata": {},
   "outputs": [
    {
     "name": "stdout",
     "output_type": "stream",
     "text": [
      "Kipfenberg, Landkreis Eichstätt, Obb, Bayern, 85110, Deutschland\n"
     ]
    }
   ],
   "source": [
    "location = geolocator.reverse((location.latitude, location.longitude))\n",
    "print(location)"
   ]
  },
  {
   "cell_type": "markdown",
   "metadata": {},
   "source": [
    "## Testing the given value\n",
    "\n",
    "### Baden-Württemberg\n",
    "I entered the given coordinates for the centroid of Baden-Württemberg (**48.6296972**, **9.1949534**) in Google Maps and made an itinary between this centroid and the one given by Google Maps :\n",
    "\n",
    "![Distance between osm and google maps centroids for Baden-Württemberg](./img/google_maps_distance_osm_gm_bw_centroids.png)\n",
    "\n",
    "We can see that there is only **14.4km** between the two points. If we consider *Baden-Württemberg* is roughly **200km** wide, we have a difference of **7.2%**.\n",
    "\n",
    "\n",
    "## Bayern\n",
    "\n",
    "Using OSM coordinates of (**48.9467562**, **11.4038717**) :\n",
    "\n",
    "![Distance between osm and google maps centroids for Bayern](./img/google_maps_distance_osm_gm_bayern_centroids.png)\n",
    "\n",
    "We have **22.4km** between the two centroids. Considering *Bayern* is roughly **300km** long, we have a difference of **7.5%**.\n",
    "\n",
    "## Conclusion on precision of centroids\n",
    "\n",
    "The values used here are obviously not very accurate and only two examples are usedbut we can still see that, each time, the given centroid is localted roughly in the center of the requested region.\n",
    "\n",
    "The difference with Google Maps can maybe be explained by a difference of precision in the borders."
   ]
  },
  {
   "cell_type": "code",
   "execution_count": null,
   "metadata": {},
   "outputs": [],
   "source": []
  }
 ],
 "metadata": {
  "kernelspec": {
   "display_name": "Python 3",
   "language": "python",
   "name": "python3"
  },
  "language_info": {
   "codemirror_mode": {
    "name": "ipython",
    "version": 3
   },
   "file_extension": ".py",
   "mimetype": "text/x-python",
   "name": "python",
   "nbconvert_exporter": "python",
   "pygments_lexer": "ipython3",
   "version": "3.7.0"
  }
 },
 "nbformat": 4,
 "nbformat_minor": 2
}
